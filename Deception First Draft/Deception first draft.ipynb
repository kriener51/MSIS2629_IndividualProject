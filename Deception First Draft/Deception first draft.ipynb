{
 "cells": [
  {
   "cell_type": "markdown",
   "metadata": {},
   "source": [
    "Kyle Riener<br>\n",
    "MSIS 2629 Individual Project<br>\n",
    "Deception first draft"
   ]
  },
  {
   "cell_type": "code",
   "execution_count": 6,
   "metadata": {
    "collapsed": false
   },
   "outputs": [
    {
     "name": "stdout",
     "output_type": "stream",
     "text": [
      "Populating the interactive namespace from numpy and matplotlib\n"
     ]
    }
   ],
   "source": [
    "import numpy as np\n",
    "import pandas as pd\n",
    "import seaborn as sns\n",
    "\n",
    "from IPython.core.interactiveshell import InteractiveShell\n",
    "InteractiveShell.ast_node_interactivity = \"all\"\n",
    "%pylab inline"
   ]
  },
  {
   "cell_type": "markdown",
   "metadata": {},
   "source": [
    "# Firearm deaths by country"
   ]
  },
  {
   "cell_type": "code",
   "execution_count": 74,
   "metadata": {
    "collapsed": true
   },
   "outputs": [],
   "source": [
    "world=pd.read_csv(\"World firearms murders and ownership - Sheet 1.csv\")"
   ]
  },
  {
   "cell_type": "code",
   "execution_count": 75,
   "metadata": {
    "collapsed": true
   },
   "outputs": [],
   "source": [
    "world.dropna(subset=['Homicide by firearm rate per 100,000 pop'],inplace=True)"
   ]
  },
  {
   "cell_type": "code",
   "execution_count": 76,
   "metadata": {
    "collapsed": true
   },
   "outputs": [],
   "source": [
    "ghetto=['Argentina','Bahamas','Brazil','Colombia','Costa Rica','El Salvador','Honduras','Jamaica',\n",
    "          'Mexico','Philippines','Puerto Rico','South Africa','United States','Venezuela']"
   ]
  },
  {
   "cell_type": "code",
   "execution_count": 77,
   "metadata": {
    "collapsed": true
   },
   "outputs": [],
   "source": [
    "df=world[world['Country/Territory'].isin(ghetto)]"
   ]
  },
  {
   "cell_type": "code",
   "execution_count": 78,
   "metadata": {
    "collapsed": true
   },
   "outputs": [],
   "source": [
    "df=df.sort_values('Homicide by firearm rate per 100,000 pop',ascending=False)"
   ]
  },
  {
   "cell_type": "code",
   "execution_count": 85,
   "metadata": {
    "collapsed": false
   },
   "outputs": [
    {
     "data": {
      "text/plain": [
       "<seaborn.axisgrid.FacetGrid at 0x13b896a0>"
      ]
     },
     "execution_count": 85,
     "metadata": {},
     "output_type": "execute_result"
    },
    {
     "data": {
      "text/plain": [
       "<matplotlib.text.Text at 0x13fcd588>"
      ]
     },
     "execution_count": 85,
     "metadata": {},
     "output_type": "execute_result"
    },
    {
     "data": {
      "image/png": "[encoded data removed]",
      "text/plain": [
       "<matplotlib.figure.Figure at 0x12dece48>"
      ]
     },
     "metadata": {},
     "output_type": "display_data"
    }
   ],
   "source": [
    "sns.factorplot(x='Homicide by firearm rate per 100,000 pop',y='Country/Territory',data=df,kind='bar',\n",
    "             aspect=3)\n",
    "plt.text(0, 17, u'Source: UNODC', fontsize=10)"
   ]
  },
  {
   "cell_type": "markdown",
   "metadata": {},
   "source": [
    "Source: UNODC, Small Arms Survey via The Guardian via Vox\n",
    "<br>\n",
    "<br>"
   ]
  },
  {
   "cell_type": "markdown",
   "metadata": {},
   "source": [
    "This chart shows the U.S. has a relatively low firearm homicide rate. I could also include more countries and see if the regression line has a negative slope."
   ]
  },
  {
   "cell_type": "markdown",
   "metadata": {},
   "source": [
    "# Redefine \"Mass Shooting\""
   ]
  },
  {
   "cell_type": "code",
   "execution_count": 10,
   "metadata": {
    "collapsed": true
   },
   "outputs": [],
   "source": [
    "shootings= pd.read_csv(\"Mass Shootings.csv\")"
   ]
  },
  {
   "cell_type": "code",
   "execution_count": 11,
   "metadata": {
    "collapsed": false
   },
   "outputs": [
    {
     "data": {
      "text/html": [
       "<div>\n",
       "<style>\n",
       "    .dataframe thead tr:only-child th {\n",
       "        text-align: right;\n",
       "    }\n",
       "\n",
       "    .dataframe thead th {\n",
       "        text-align: left;\n",
       "    }\n",
       "\n",
       "    .dataframe tbody tr th {\n",
       "        vertical-align: top;\n",
       "    }\n",
       "</style>\n",
       "<table border=\"1\" class=\"dataframe\">\n",
       "  <thead>\n",
       "    <tr style=\"text-align: right;\">\n",
       "      <th></th>\n",
       "      <th>Incident Date</th>\n",
       "      <th>State</th>\n",
       "      <th>City Or County</th>\n",
       "      <th>Address</th>\n",
       "      <th># Killed</th>\n",
       "      <th># Injured</th>\n",
       "      <th>Operations</th>\n",
       "    </tr>\n",
       "  </thead>\n",
       "  <tbody>\n",
       "    <tr>\n",
       "      <th>0</th>\n",
       "      <td>May 14, 2018</td>\n",
       "      <td>Maryland</td>\n",
       "      <td>Baltimore</td>\n",
       "      <td>2020 Etting Street</td>\n",
       "      <td>0</td>\n",
       "      <td>4</td>\n",
       "      <td>NaN</td>\n",
       "    </tr>\n",
       "    <tr>\n",
       "      <th>1</th>\n",
       "      <td>May 13, 2018</td>\n",
       "      <td>Mississippi</td>\n",
       "      <td>Byhalia</td>\n",
       "      <td>French Rd and Berta Rd</td>\n",
       "      <td>0</td>\n",
       "      <td>4</td>\n",
       "      <td>NaN</td>\n",
       "    </tr>\n",
       "    <tr>\n",
       "      <th>2</th>\n",
       "      <td>May 13, 2018</td>\n",
       "      <td>California</td>\n",
       "      <td>Stockton</td>\n",
       "      <td>2436 Belleview Street</td>\n",
       "      <td>3</td>\n",
       "      <td>2</td>\n",
       "      <td>NaN</td>\n",
       "    </tr>\n",
       "    <tr>\n",
       "      <th>3</th>\n",
       "      <td>May 13, 2018</td>\n",
       "      <td>California</td>\n",
       "      <td>Los Angeles</td>\n",
       "      <td>365 W Manchester Avenue</td>\n",
       "      <td>2</td>\n",
       "      <td>2</td>\n",
       "      <td>NaN</td>\n",
       "    </tr>\n",
       "    <tr>\n",
       "      <th>4</th>\n",
       "      <td>May 12, 2018</td>\n",
       "      <td>Nebraska</td>\n",
       "      <td>Omaha</td>\n",
       "      <td>3201 Decatur St</td>\n",
       "      <td>0</td>\n",
       "      <td>6</td>\n",
       "      <td>NaN</td>\n",
       "    </tr>\n",
       "  </tbody>\n",
       "</table>\n",
       "</div>"
      ],
      "text/plain": [
       "  Incident Date        State City Or County                  Address  \\\n",
       "0  May 14, 2018     Maryland      Baltimore       2020 Etting Street   \n",
       "1  May 13, 2018  Mississippi        Byhalia   French Rd and Berta Rd   \n",
       "2  May 13, 2018   California       Stockton    2436 Belleview Street   \n",
       "3  May 13, 2018   California    Los Angeles  365 W Manchester Avenue   \n",
       "4  May 12, 2018     Nebraska          Omaha          3201 Decatur St   \n",
       "\n",
       "   # Killed  # Injured  Operations  \n",
       "0         0          4         NaN  \n",
       "1         0          4         NaN  \n",
       "2         3          2         NaN  \n",
       "3         2          2         NaN  \n",
       "4         0          6         NaN  "
      ]
     },
     "execution_count": 11,
     "metadata": {},
     "output_type": "execute_result"
    }
   ],
   "source": [
    "shootings.head()"
   ]
  },
  {
   "cell_type": "markdown",
   "metadata": {},
   "source": [
    "See Tableau chart (mass_shooting_US.png)<br>\n",
    "I used Tableau to create a map that has markers at the locations of mass shootings. For this assignment, I defined a mass shooting as an event with more than 6 deaths. This brought the number of mass shootings down to 5. The only alteration to the data was using Tableau to create longitude and latitude. The map is not entirely necessary, but I wanted to create something similar to the Vox article. The idea is to create something that conveys how frequently shootings happen better than just stating a number.<br><br>"
   ]
  },
  {
   "cell_type": "markdown",
   "metadata": {
    "collapsed": true
   },
   "source": [
    "# Violent crime rate"
   ]
  },
  {
   "cell_type": "code",
   "execution_count": 2,
   "metadata": {
    "collapsed": true
   },
   "outputs": [],
   "source": [
    "crime_rate=pd.read_csv(\"Crime rate.csv\")"
   ]
  },
  {
   "cell_type": "code",
   "execution_count": 3,
   "metadata": {
    "collapsed": true
   },
   "outputs": [],
   "source": [
    "ownership=pd.read_csv(\"Gun ownership.csv\")"
   ]
  },
  {
   "cell_type": "code",
   "execution_count": 49,
   "metadata": {
    "collapsed": true
   },
   "outputs": [],
   "source": [
    "ownership.drop(ownership[ownership.State == 'Washington D.C.'].index, inplace=True)"
   ]
  },
  {
   "cell_type": "code",
   "execution_count": 4,
   "metadata": {
    "collapsed": true
   },
   "outputs": [],
   "source": [
    "merged=crime_rate.merge(ownership, on='State')"
   ]
  },
  {
   "cell_type": "code",
   "execution_count": 5,
   "metadata": {
    "collapsed": false
   },
   "outputs": [
    {
     "data": {
      "text/html": [
       "<div>\n",
       "<style>\n",
       "    .dataframe thead tr:only-child th {\n",
       "        text-align: right;\n",
       "    }\n",
       "\n",
       "    .dataframe thead th {\n",
       "        text-align: left;\n",
       "    }\n",
       "\n",
       "    .dataframe tbody tr th {\n",
       "        vertical-align: top;\n",
       "    }\n",
       "</style>\n",
       "<table border=\"1\" class=\"dataframe\">\n",
       "  <thead>\n",
       "    <tr style=\"text-align: right;\">\n",
       "      <th></th>\n",
       "      <th>Rank_x</th>\n",
       "      <th>State</th>\n",
       "      <th>Violent Crime Rate Per 100,000 Inhabitants</th>\n",
       "      <th>Rank_y</th>\n",
       "      <th># of guns per capita</th>\n",
       "      <th># of guns registered</th>\n",
       "    </tr>\n",
       "  </thead>\n",
       "  <tbody>\n",
       "    <tr>\n",
       "      <th>0</th>\n",
       "      <td>1</td>\n",
       "      <td>Alaska</td>\n",
       "      <td>804</td>\n",
       "      <td>15</td>\n",
       "      <td>21.38</td>\n",
       "      <td>15,824</td>\n",
       "    </tr>\n",
       "    <tr>\n",
       "      <th>1</th>\n",
       "      <td>2</td>\n",
       "      <td>New Mexico</td>\n",
       "      <td>703</td>\n",
       "      <td>4</td>\n",
       "      <td>46.73</td>\n",
       "      <td>97,580</td>\n",
       "    </tr>\n",
       "    <tr>\n",
       "      <th>2</th>\n",
       "      <td>3</td>\n",
       "      <td>Nevada</td>\n",
       "      <td>678</td>\n",
       "      <td>9</td>\n",
       "      <td>25.64</td>\n",
       "      <td>76,888</td>\n",
       "    </tr>\n",
       "    <tr>\n",
       "      <th>3</th>\n",
       "      <td>4</td>\n",
       "      <td>Tennessee</td>\n",
       "      <td>633</td>\n",
       "      <td>33</td>\n",
       "      <td>14.76</td>\n",
       "      <td>99,159</td>\n",
       "    </tr>\n",
       "    <tr>\n",
       "      <th>4</th>\n",
       "      <td>5</td>\n",
       "      <td>Louisiana</td>\n",
       "      <td>566</td>\n",
       "      <td>11</td>\n",
       "      <td>24.94</td>\n",
       "      <td>116,831</td>\n",
       "    </tr>\n",
       "  </tbody>\n",
       "</table>\n",
       "</div>"
      ],
      "text/plain": [
       "   Rank_x       State  Violent Crime Rate Per 100,000 Inhabitants  Rank_y  \\\n",
       "0       1      Alaska                                         804      15   \n",
       "1       2  New Mexico                                         703       4   \n",
       "2       3      Nevada                                         678       9   \n",
       "3       4   Tennessee                                         633      33   \n",
       "4       5   Louisiana                                         566      11   \n",
       "\n",
       "   # of guns per capita # of guns registered  \n",
       "0                 21.38               15,824  \n",
       "1                 46.73               97,580  \n",
       "2                 25.64               76,888  \n",
       "3                 14.76               99,159  \n",
       "4                 24.94              116,831  "
      ]
     },
     "execution_count": 5,
     "metadata": {},
     "output_type": "execute_result"
    }
   ],
   "source": [
    "merged.head()"
   ]
  },
  {
   "cell_type": "code",
   "execution_count": 12,
   "metadata": {
    "collapsed": true
   },
   "outputs": [],
   "source": [
    "import matplotlib.pyplot as plt"
   ]
  },
  {
   "cell_type": "code",
   "execution_count": 37,
   "metadata": {
    "collapsed": false,
    "scrolled": true
   },
   "outputs": [
    {
     "data": {
      "text/plain": [
       "<matplotlib.collections.PathCollection at 0x10e7da90>"
      ]
     },
     "execution_count": 37,
     "metadata": {},
     "output_type": "execute_result"
    },
    {
     "data": {
      "text/plain": [
       "<matplotlib.text.Text at 0x1103a1d0>"
      ]
     },
     "execution_count": 37,
     "metadata": {},
     "output_type": "execute_result"
    },
    {
     "data": {
      "text/plain": [
       "<matplotlib.text.Text at 0x109b1320>"
      ]
     },
     "execution_count": 37,
     "metadata": {},
     "output_type": "execute_result"
    },
    {
     "data": {
      "text/plain": [
       "<matplotlib.text.Text at 0xe554e48>"
      ]
     },
     "execution_count": 37,
     "metadata": {},
     "output_type": "execute_result"
    },
    {
     "data": {
      "text/plain": [
       "<matplotlib.text.Text at 0x103efef0>"
      ]
     },
     "execution_count": 37,
     "metadata": {},
     "output_type": "execute_result"
    },
    {
     "data": {
      "image/png": "[encoded data removed]",
      "text/plain": [
       "<matplotlib.figure.Figure at 0xdf60e48>"
      ]
     },
     "metadata": {},
     "output_type": "display_data"
    }
   ],
   "source": [
    "scatter(merged['Rank_x'],merged[\"Rank_y\"])\n",
    "plt.title(\"Gun ownership vs. violent crime\")\n",
    "plt.xlabel(\"Violent crime rank\")\n",
    "plt.ylabel(\"Gun ownership rank\")\n",
    "plt.text(-10, -20, u'Sources:World Atlas, ThoughtCo.', fontsize=10)"
   ]
  },
  {
   "cell_type": "code",
   "execution_count": 50,
   "metadata": {
    "collapsed": false
   },
   "outputs": [
    {
     "data": {
      "text/plain": [
       "['Wyoming', 'New Hampshire', 'New Mexico', 'Virginia', 'Alabama']"
      ]
     },
     "execution_count": 50,
     "metadata": {},
     "output_type": "execute_result"
    }
   ],
   "source": [
    "top5=list(ownership['State'].head())\n",
    "top5"
   ]
  },
  {
   "cell_type": "code",
   "execution_count": 51,
   "metadata": {
    "collapsed": true
   },
   "outputs": [],
   "source": [
    "bottom5=list(ownership['State'].tail())"
   ]
  },
  {
   "cell_type": "code",
   "execution_count": 53,
   "metadata": {
    "collapsed": false
   },
   "outputs": [],
   "source": [
    "t5=crime_rate[crime_rate['State'].isin(top5)]"
   ]
  },
  {
   "cell_type": "code",
   "execution_count": 54,
   "metadata": {
    "collapsed": false
   },
   "outputs": [],
   "source": [
    "b5=crime_rate[crime_rate['State'].isin(bottom5)]"
   ]
  },
  {
   "cell_type": "code",
   "execution_count": 56,
   "metadata": {
    "collapsed": true
   },
   "outputs": [],
   "source": [
    "top5avg=t5['Violent Crime Rate Per 100,000 Inhabitants'].mean()"
   ]
  },
  {
   "cell_type": "code",
   "execution_count": 57,
   "metadata": {
    "collapsed": true
   },
   "outputs": [],
   "source": [
    "bottom5avg=b5['Violent Crime Rate Per 100,000 Inhabitants'].mean()"
   ]
  },
  {
   "cell_type": "code",
   "execution_count": 62,
   "metadata": {
    "collapsed": false
   },
   "outputs": [],
   "source": [
    "df=pd.DataFrame({'Ownership level' : ['High Ownership','Low Ownership'],\n",
    "                 'Violent Crime Rate' : [top5avg,bottom5avg]})"
   ]
  },
  {
   "cell_type": "code",
   "execution_count": 72,
   "metadata": {
    "collapsed": false
   },
   "outputs": [
    {
     "data": {
      "text/plain": [
       "<seaborn.axisgrid.FacetGrid at 0x11238390>"
      ]
     },
     "execution_count": 72,
     "metadata": {},
     "output_type": "execute_result"
    },
    {
     "data": {
      "text/plain": [
       "<matplotlib.text.Text at 0x12c48a58>"
      ]
     },
     "execution_count": 72,
     "metadata": {},
     "output_type": "execute_result"
    },
    {
     "data": {
      "text/plain": [
       "<matplotlib.text.Text at 0x12a97c18>"
      ]
     },
     "execution_count": 72,
     "metadata": {},
     "output_type": "execute_result"
    },
    {
     "data": {
      "text/plain": [
       "<matplotlib.text.Text at 0x12a764a8>"
      ]
     },
     "execution_count": 72,
     "metadata": {},
     "output_type": "execute_result"
    },
    {
     "data": {
      "text/plain": [
       "<matplotlib.text.Text at 0x1218a208>"
      ]
     },
     "execution_count": 72,
     "metadata": {},
     "output_type": "execute_result"
    },
    {
     "data": {
      "image/png": "[encoded data removed]",
      "text/plain": [
       "<matplotlib.figure.Figure at 0xcdcd710>"
      ]
     },
     "metadata": {},
     "output_type": "display_data"
    }
   ],
   "source": [
    "sns.factorplot(x='Ownership level',y='Violent Crime Rate',data=df,kind='bar')\n",
    "plt.title(\"Violent crime by gun ownership\")\n",
    "plt.xlabel(\"Ownership level\")\n",
    "plt.ylabel(\"Violent crime per 100,000\")\n",
    "plt.text(2, 0, u'Sources:World Atlas, ThoughtCo.', fontsize=10)"
   ]
  },
  {
   "cell_type": "markdown",
   "metadata": {},
   "source": [
    "There is no strong correlation between gun ownership and violent crime. States with a high rate of gun ownership have nearly the same rate of violent crimes as states with a low rate of gun ownership and the scatterplot shows no obvious trend."
   ]
  },
  {
   "cell_type": "markdown",
   "metadata": {},
   "source": [
    "Sources: World Atlas (https://www.worldatlas.com/articles/the-most-dangerous-states-in-the-u-s.html)<br>\n",
    "ThoughtCo. (https://www.thoughtco.com/gun-owners-percentage-of-state-populations-3325153)"
   ]
  },
  {
   "cell_type": "markdown",
   "metadata": {},
   "source": [
    "The inspiration for this section came from looking at police death rates, so I could also use that in my comparison."
   ]
  }
 ],
 "metadata": {
  "kernelspec": {
   "display_name": "Python 2",
   "language": "python",
   "name": "python2"
  },
  "language_info": {
   "codemirror_mode": {
    "name": "ipython",
    "version": 2
   },
   "file_extension": ".py",
   "mimetype": "text/x-python",
   "name": "python",
   "nbconvert_exporter": "python",
   "pygments_lexer": "ipython2",
   "version": "2.7.11"
  }
 },
 "nbformat": 4,
 "nbformat_minor": 0
}
